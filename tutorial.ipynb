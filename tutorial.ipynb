{
  "nbformat": 4,
  "nbformat_minor": 0,
  "metadata": {
    "colab": {
      "name": "Untitled40.ipynb",
      "provenance": [],
      "authorship_tag": "ABX9TyPzYcIIs9siSdHsWo0pP6wF",
      "include_colab_link": true
    },
    "kernelspec": {
      "name": "python3",
      "display_name": "Python 3"
    }
  },
  "cells": [
    {
      "cell_type": "markdown",
      "metadata": {
        "id": "view-in-github",
        "colab_type": "text"
      },
      "source": [
        "<a href=\"https://colab.research.google.com/github/chaos44/machine_tutorial/blob/main/tutorial.ipynb\" target=\"_parent\"><img src=\"https://colab.research.google.com/assets/colab-badge.svg\" alt=\"Open In Colab\"/></a>"
      ]
    },
    {
      "cell_type": "code",
      "metadata": {
        "id": "J7WmDDPSciyh"
      },
      "source": [
        "# scikit-learnチュートリアル\n",
        "# 重回帰分析"
      ],
      "execution_count": 3,
      "outputs": []
    },
    {
      "cell_type": "code",
      "metadata": {
        "id": "NxnI6I3Acn80"
      },
      "source": [
        "from sklearn.datasets import load_boston\n",
        "from sklearn.linear_model import LinearRegression\n",
        "import numpy as np\n",
        "import pandas as pd\n",
        "\n",
        "boston = load_boston()\n",
        "env_data = pd.DataFrame(boston.data,columns = boston.feature_names)\n",
        "price_data = boston.target"
      ],
      "execution_count": 2,
      "outputs": []
    },
    {
      "cell_type": "code",
      "metadata": {
        "id": "biRze3IvczX5",
        "outputId": "92fef0af-b86c-4613-ef28-42b4546f9f74",
        "colab": {
          "base_uri": "https://localhost:8080/"
        }
      },
      "source": [
        "print(env_data)"
      ],
      "execution_count": 4,
      "outputs": [
        {
          "output_type": "stream",
          "text": [
            "        CRIM    ZN  INDUS  CHAS    NOX  ...  RAD    TAX  PTRATIO       B  LSTAT\n",
            "0    0.00632  18.0   2.31   0.0  0.538  ...  1.0  296.0     15.3  396.90   4.98\n",
            "1    0.02731   0.0   7.07   0.0  0.469  ...  2.0  242.0     17.8  396.90   9.14\n",
            "2    0.02729   0.0   7.07   0.0  0.469  ...  2.0  242.0     17.8  392.83   4.03\n",
            "3    0.03237   0.0   2.18   0.0  0.458  ...  3.0  222.0     18.7  394.63   2.94\n",
            "4    0.06905   0.0   2.18   0.0  0.458  ...  3.0  222.0     18.7  396.90   5.33\n",
            "..       ...   ...    ...   ...    ...  ...  ...    ...      ...     ...    ...\n",
            "501  0.06263   0.0  11.93   0.0  0.573  ...  1.0  273.0     21.0  391.99   9.67\n",
            "502  0.04527   0.0  11.93   0.0  0.573  ...  1.0  273.0     21.0  396.90   9.08\n",
            "503  0.06076   0.0  11.93   0.0  0.573  ...  1.0  273.0     21.0  396.90   5.64\n",
            "504  0.10959   0.0  11.93   0.0  0.573  ...  1.0  273.0     21.0  393.45   6.48\n",
            "505  0.04741   0.0  11.93   0.0  0.573  ...  1.0  273.0     21.0  396.90   7.88\n",
            "\n",
            "[506 rows x 13 columns]\n"
          ],
          "name": "stdout"
        }
      ]
    },
    {
      "cell_type": "code",
      "metadata": {
        "id": "bnSe-8ogc-bi",
        "outputId": "831bbf66-1b79-4949-a490-ecbfe5826559",
        "colab": {
          "base_uri": "https://localhost:8080/"
        }
      },
      "source": [
        "# 実際の値段\n",
        "print(price_data[:10])"
      ],
      "execution_count": 12,
      "outputs": [
        {
          "output_type": "stream",
          "text": [
            "[24.  21.6 34.7 33.4 36.2 28.7 22.9 27.1 16.5 18.9]\n"
          ],
          "name": "stdout"
        }
      ]
    },
    {
      "cell_type": "code",
      "metadata": {
        "id": "F8lEuJRkdBi9"
      },
      "source": [
        "lr = LinearRegression(fit_intercept = True)"
      ],
      "execution_count": 7,
      "outputs": []
    },
    {
      "cell_type": "code",
      "metadata": {
        "id": "ZWYZ2tZwdJNV",
        "outputId": "5e738ece-1a07-4b65-8974-8e7c62f81849",
        "colab": {
          "base_uri": "https://localhost:8080/"
        }
      },
      "source": [
        "# 計算式、モデルの作成\n",
        "lr.fit(env_data,price_data)"
      ],
      "execution_count": 9,
      "outputs": [
        {
          "output_type": "execute_result",
          "data": {
            "text/plain": [
              "LinearRegression(copy_X=True, fit_intercept=True, n_jobs=None, normalize=False)"
            ]
          },
          "metadata": {
            "tags": []
          },
          "execution_count": 9
        }
      ]
    },
    {
      "cell_type": "code",
      "metadata": {
        "id": "GaN4zBL6dT9q",
        "outputId": "679451de-27c0-4b5e-8e2b-c1a3c35e7658",
        "colab": {
          "base_uri": "https://localhost:8080/"
        }
      },
      "source": [
        "# 予測\n",
        "forecast = lr.predict(env_data)\n",
        "print(forecast[:10])"
      ],
      "execution_count": 13,
      "outputs": [
        {
          "output_type": "stream",
          "text": [
            "[30.00384338 25.02556238 30.56759672 28.60703649 27.94352423 25.25628446\n",
            " 23.00180827 19.53598843 11.52363685 18.92026211]\n"
          ],
          "name": "stdout"
        }
      ]
    },
    {
      "cell_type": "code",
      "metadata": {
        "id": "_YJj7OIXdhjU",
        "outputId": "caa015f4-7911-4738-fcc5-02232c8957df",
        "colab": {
          "base_uri": "https://localhost:8080/"
        }
      },
      "source": [
        "# 誤差分析\n",
        "ERROR = (forecast - price_data) / price_data\n",
        "\n",
        "#実際の価格に対して、平均誤差\n",
        "print(np.mean(np.abs(ERROR))*100)\n",
        "#16.431734487377376(%)\n",
        "\n",
        "#最大の誤差\n",
        "print(np.max(np.abs(ERROR))*100)\n",
        "#161.18584774173794(%)"
      ],
      "execution_count": 14,
      "outputs": [
        {
          "output_type": "stream",
          "text": [
            "16.417298806489978\n",
            "161.1615815597842\n"
          ],
          "name": "stdout"
        }
      ]
    },
    {
      "cell_type": "code",
      "metadata": {
        "id": "xMAzNE_Xd4bq"
      },
      "source": [
        ""
      ],
      "execution_count": 14,
      "outputs": []
    },
    {
      "cell_type": "code",
      "metadata": {
        "id": "bhtTHdL0eC_B"
      },
      "source": [
        "# 画像認識チュートリアル\n",
        "from keras.datasets import mnist\n",
        "from keras.models import Sequential\n",
        "from keras.layers.core import Dense, Activation\n",
        "from keras.utils import np_utils"
      ],
      "execution_count": 15,
      "outputs": []
    },
    {
      "cell_type": "code",
      "metadata": {
        "id": "SR-I076ReVGp",
        "outputId": "5f434857-08c6-443c-d64c-482a87598ef7",
        "colab": {
          "base_uri": "https://localhost:8080/"
        }
      },
      "source": [
        "# kerasのMNISTデータの取得\n",
        "(X_train, y_train), (X_test, y_test) = mnist.load_data()"
      ],
      "execution_count": 16,
      "outputs": [
        {
          "output_type": "stream",
          "text": [
            "Downloading data from https://storage.googleapis.com/tensorflow/tf-keras-datasets/mnist.npz\n",
            "11493376/11490434 [==============================] - 0s 0us/step\n"
          ],
          "name": "stdout"
        }
      ]
    },
    {
      "cell_type": "code",
      "metadata": {
        "id": "7mIfaeNWebOz"
      },
      "source": [
        "# 配列の整形と，色の範囲を0-255 -> 0-1に変換\n",
        "X_train = X_train.reshape(60000, 784) / 255\n",
        "X_test = X_test.reshape(10000, 784) / 255"
      ],
      "execution_count": 17,
      "outputs": []
    },
    {
      "cell_type": "code",
      "metadata": {
        "id": "zhbBFbKAecoA"
      },
      "source": [
        "# 正解ラベルをダミー変数に変換\n",
        "y_train = np_utils.to_categorical(y_train)\n",
        "y_test = np_utils.to_categorical(y_test)"
      ],
      "execution_count": 18,
      "outputs": []
    },
    {
      "cell_type": "code",
      "metadata": {
        "id": "1Tlrp6K0ee4D"
      },
      "source": [
        "# ネットワークの定義\n",
        "model = Sequential([\n",
        "        Dense(512, input_shape=(784,)),\n",
        "        Activation('sigmoid'),\n",
        "        Dense(10),\n",
        "        Activation('softmax')\n",
        "        ])"
      ],
      "execution_count": 19,
      "outputs": []
    },
    {
      "cell_type": "code",
      "metadata": {
        "id": "E_kWcTzFekhP"
      },
      "source": [
        "# 損失関数，最適化アルゴリズムなどの設定 + モデルのコンパイルを行う\n",
        "model.compile(loss='categorical_crossentropy', optimizer='sgd', metrics=['accuracy'])"
      ],
      "execution_count": 20,
      "outputs": []
    },
    {
      "cell_type": "code",
      "metadata": {
        "id": "gF7Oclwfelw-",
        "outputId": "4bf0372c-791b-4982-ab7c-f30a75306242",
        "colab": {
          "base_uri": "https://localhost:8080/"
        }
      },
      "source": [
        "# 学習処理の実行 -> 変数histに進捗の情報が格納される\n",
        "# validation_split=0.1 ---> 0.1(10%)の訓練データが交差検証に使われる\n",
        "hist = model.fit(X_train, y_train, batch_size=200, verbose=1, epochs=3, validation_split=0.1)"
      ],
      "execution_count": 21,
      "outputs": [
        {
          "output_type": "stream",
          "text": [
            "Epoch 1/3\n",
            "270/270 [==============================] - 3s 10ms/step - loss: 2.0766 - accuracy: 0.4948 - val_loss: 1.8461 - val_accuracy: 0.7097\n",
            "Epoch 2/3\n",
            "270/270 [==============================] - 3s 10ms/step - loss: 1.6876 - accuracy: 0.7148 - val_loss: 1.4851 - val_accuracy: 0.7980\n",
            "Epoch 3/3\n",
            "270/270 [==============================] - 3s 10ms/step - loss: 1.3832 - accuracy: 0.7657 - val_loss: 1.2082 - val_accuracy: 0.8378\n"
          ],
          "name": "stdout"
        }
      ]
    },
    {
      "cell_type": "code",
      "metadata": {
        "id": "w7bNhh6jeoeN",
        "outputId": "ab6b602c-b74b-4636-c1f2-c7943b2af7b9",
        "colab": {
          "base_uri": "https://localhost:8080/"
        }
      },
      "source": [
        "# 予測\n",
        "score = model.evaluate(X_test, y_test, verbose=1)\n",
        "print(\"\")\n",
        "print('test accuracy : ', score[1])"
      ],
      "execution_count": 22,
      "outputs": [
        {
          "output_type": "stream",
          "text": [
            "313/313 [==============================] - 1s 3ms/step - loss: 1.2354 - accuracy: 0.8089\n",
            "\n",
            "test accuracy :  0.808899998664856\n"
          ],
          "name": "stdout"
        }
      ]
    },
    {
      "cell_type": "code",
      "metadata": {
        "id": "MQunl9mzf_9J",
        "outputId": "1694b710-806e-44ca-c979-0c6e6013bfa2",
        "colab": {
          "base_uri": "https://localhost:8080/",
          "height": 334
        }
      },
      "source": [
        "predictions = model.predict(X_test)\n",
        "print(predictions[0])\n",
        "print(y_test[0])\n",
        "plt.imshow(X_test[0].reshape((28, 28)), cmap='gray')"
      ],
      "execution_count": 49,
      "outputs": [
        {
          "output_type": "stream",
          "text": [
            "[0.0331052  0.03457246 0.02884706 0.0568063  0.0792291  0.05641828\n",
            " 0.02971022 0.5121423  0.03785091 0.13131815]\n",
            "[0. 0. 0. 0. 0. 0. 0. 1. 0. 0.]\n"
          ],
          "name": "stdout"
        },
        {
          "output_type": "execute_result",
          "data": {
            "text/plain": [
              "<matplotlib.image.AxesImage at 0x7f4d06046be0>"
            ]
          },
          "metadata": {
            "tags": []
          },
          "execution_count": 49
        },
        {
          "output_type": "display_data",
          "data": {
            "image/png": "[encoded data removed]",
            "text/plain": [
              "<Figure size 432x288 with 1 Axes>"
            ]
          },
          "metadata": {
            "tags": [],
            "needs_background": "light"
          }
        }
      ]
    },
    {
      "cell_type": "code",
      "metadata": {
        "id": "KFKEl-vnexNU",
        "outputId": "4aef8aee-1a07-42f2-b1db-9cd32012412b",
        "colab": {
          "base_uri": "https://localhost:8080/",
          "height": 279
        }
      },
      "source": [
        "import matplotlib.pyplot as plt\n",
        "loss = hist.history['loss']\n",
        "val_loss = hist.history['val_loss']\n",
        "\n",
        "# lossのグラフ\n",
        "plt.plot(range(3), loss, marker='.', label='loss')\n",
        "plt.plot(range(3), val_loss, marker='.', label='val_loss')\n",
        "plt.legend(loc='best', fontsize=10)\n",
        "plt.grid()\n",
        "plt.xlabel('epoch')\n",
        "plt.ylabel('loss')\n",
        "plt.show()"
      ],
      "execution_count": 23,
      "outputs": [
        {
          "output_type": "display_data",
          "data": {
            "image/png": "[encoded data removed]",
            "text/plain": [
              "<Figure size 432x288 with 1 Axes>"
            ]
          },
          "metadata": {
            "tags": [],
            "needs_background": "light"
          }
        }
      ]
    },
    {
      "cell_type": "code",
      "metadata": {
        "id": "ol9AfCboe-UP",
        "outputId": "6fc330f5-b75d-4f92-8fe3-59aedd2fff6f",
        "colab": {
          "base_uri": "https://localhost:8080/",
          "height": 280
        }
      },
      "source": [
        "acc = hist.history['accuracy']\n",
        "val_acc = hist.history['val_accuracy']\n",
        "\n",
        "# accuracyのグラフ\n",
        "plt.plot(range(3), acc, marker='.', label='acc')\n",
        "plt.plot(range(3), val_acc, marker='.', label='val_acc')\n",
        "plt.legend(loc='best', fontsize=10)\n",
        "plt.grid()\n",
        "plt.xlabel('epoch')\n",
        "plt.ylabel('acc')\n",
        "plt.show()"
      ],
      "execution_count": 26,
      "outputs": [
        {
          "output_type": "display_data",
          "data": {
            "image/png": "[encoded data removed]",
            "text/plain": [
              "<Figure size 432x288 with 1 Axes>"
            ]
          },
          "metadata": {
            "tags": [],
            "needs_background": "light"
          }
        }
      ]
    },
    {
      "cell_type": "code",
      "metadata": {
        "id": "rS54DcdlfEI5"
      },
      "source": [
        ""
      ],
      "execution_count": null,
      "outputs": []
    }
  ]
}